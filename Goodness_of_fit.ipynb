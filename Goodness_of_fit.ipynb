{
  "cells": [
    {
      "cell_type": "markdown",
      "metadata": {
        "id": "view-in-github",
        "colab_type": "text"
      },
      "source": [
        "<a href=\"https://colab.research.google.com/github/kareemullah123456789/stclaret/blob/main/Goodness_of_fit.ipynb\" target=\"_parent\"><img src=\"https://colab.research.google.com/assets/colab-badge.svg\" alt=\"Open In Colab\"/></a>"
      ]
    },
    {
      "cell_type": "code",
      "execution_count": null,
      "id": "fd4efe8f",
      "metadata": {
        "id": "fd4efe8f"
      },
      "outputs": [],
      "source": [
        "import pandas as pd\n",
        "import numpy as np\n",
        "import scipy.stats as stats"
      ]
    },
    {
      "cell_type": "markdown",
      "id": "e44d8c3c",
      "metadata": {
        "id": "e44d8c3c"
      },
      "source": [
        "## In the park there were 20 chipmunks, 50 squirrels and 10 owls 10 years ago.                                                                                                  We currently have: 30 chipmunks, 40 squirrels and 8 owls. Has the number of birds changed compared to 10 years ago?\n",
        "\n"
      ]
    },
    {
      "cell_type": "markdown",
      "id": "7a2f5727",
      "metadata": {
        "id": "7a2f5727"
      },
      "source": [
        "H0 -> p_hat1 = p_hat2 = p_hat3\n"
      ]
    },
    {
      "cell_type": "markdown",
      "id": "4b546246",
      "metadata": {
        "id": "4b546246"
      },
      "source": [
        "H1 -> at least one group is different"
      ]
    },
    {
      "cell_type": "code",
      "execution_count": null,
      "id": "0e0dd11d",
      "metadata": {
        "id": "0e0dd11d"
      },
      "outputs": [],
      "source": [
        "observed_values = np.array([30,40,8])\n",
        "expected_values = np.array([20,50,10])"
      ]
    },
    {
      "cell_type": "code",
      "execution_count": null,
      "id": "7fea200e",
      "metadata": {
        "id": "7fea200e"
      },
      "outputs": [],
      "source": [
        " def Chi_Square_test_statistic(observed_values, expected_values):\n",
        "   count = len(observed_values)\n",
        "   chi_sq = 0\n",
        "   for i in range(count):\n",
        "     x = (observed_values[i] - expected_values[i]) ** 2\n",
        "     x = x / expected_values[i]\n",
        "     chi_sq += x\n",
        "   return chi_sq"
      ]
    },
    {
      "cell_type": "code",
      "execution_count": null,
      "id": "e7194e9c",
      "metadata": {
        "id": "e7194e9c",
        "outputId": "523882a4-eb2a-4d68-fc31-18da868f12ab"
      },
      "outputs": [
        {
          "data": {
            "text/plain": [
              "7.4"
            ]
          },
          "execution_count": 40,
          "metadata": {},
          "output_type": "execute_result"
        }
      ],
      "source": [
        "Chi_Square_test_statistic(observed_values, expected_values)"
      ]
    },
    {
      "cell_type": "code",
      "execution_count": null,
      "id": "2ff6472c",
      "metadata": {
        "id": "2ff6472c",
        "outputId": "5c71f2e0-d3d8-4e8c-acb1-bc09c9ee3272"
      },
      "outputs": [
        {
          "data": {
            "text/plain": [
              "5.991464547107983"
            ]
          },
          "execution_count": 41,
          "metadata": {},
          "output_type": "execute_result"
        }
      ],
      "source": [
        "alpha = 0.05\n",
        "df = 2\n",
        "Chi_critical = stats.chi2.isf(alpha, df)\n",
        "Chi_critical"
      ]
    },
    {
      "cell_type": "markdown",
      "id": "9b6a6d2d",
      "metadata": {
        "id": "9b6a6d2d"
      },
      "source": [
        "Chi_Square_test_statistic is greater than Chi_critical => we reject the Null Hypothesis. The number of birds has changed compared to 10 years ago."
      ]
    }
  ],
  "metadata": {
    "kernelspec": {
      "display_name": "Python 3 (ipykernel)",
      "language": "python",
      "name": "python3"
    },
    "language_info": {
      "codemirror_mode": {
        "name": "ipython",
        "version": 3
      },
      "file_extension": ".py",
      "mimetype": "text/x-python",
      "name": "python",
      "nbconvert_exporter": "python",
      "pygments_lexer": "ipython3",
      "version": "3.9.7"
    },
    "colab": {
      "provenance": [],
      "include_colab_link": true
    }
  },
  "nbformat": 4,
  "nbformat_minor": 5
}